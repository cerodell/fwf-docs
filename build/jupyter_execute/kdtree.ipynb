{
 "cells": [
  {
   "cell_type": "markdown",
   "id": "binary-render",
   "metadata": {},
   "source": [
    "\n",
    "# Datasets\n",
    "\n",
    "The Datasets are divided up by their model domain"
   ]
  },
  {
   "cell_type": "markdown",
   "id": "coral-ordering",
   "metadata": {
    "lines_to_next_cell": 0
   },
   "source": [
    "## Model Domains\n",
    "\n",
    "The FWF model resolves the FWI System/ FBP System in the D02 (12 km) and D03 (4 km) at 55 hour forecast horizon.\n",
    "\n",
    "![title](_static/images/fwf-model-domains.png)"
   ]
  },
  {
   "cell_type": "markdown",
   "id": "popular-flush",
   "metadata": {
    "lines_to_next_cell": 0
   },
   "source": [
    "### Description\n",
    "\n",
    "For each domain there are two `.nc` (netcdf) files generated, four total datasets each day.\n",
    "\n",
    "**Domain: d02 (12 km)**\n",
    "-  `fwf-hourly-d02-YYYYMMDDHH.nc`\n",
    "    - File Size: ~ 780M\n",
    "    - File Dimensions: (time: 55, south_north: 417, west_east: 627)\n",
    "-  `fwf-daily-d02-YYYYMMDDHH.nc`\n",
    "    - File Size: ~ 16M\n",
    "    - File Dimensions: (time: 2, south_north: 417, west_east: 627)\n",
    "\n",
    "\n",
    "**Domain: d03 (4 km)**\n",
    "-  `fwf-hourly-d03-YYYYMMDDHH.nc`\n",
    "    - File Size:  ~ 1.7G\n",
    "    - File Dimensions: (time: 55, south_north: 840, west_east: 642)\n",
    "-  `fwf-daily-d03-YYYYMMDDHH.nc`\n",
    "    - File Size: ~ 30M\n",
    "    - File Dimensions: (time: 2, south_north: 840, west_east: 642)\n",
    "\n",
    "\n",
    "### Dataset Variables\n",
    "\n",
    "Regardless of Domain, each dataset hourly/daily contain the following variables."
   ]
  },
  {
   "cell_type": "markdown",
   "id": "numerical-algebra",
   "metadata": {
    "lines_to_next_cell": 2
   },
   "source": [
    "| Hourly Dataset <br> `fwf-hourly-<domain>-YYYYMMDDHH.nc`  | Daily Dataset <br> `fwf-daily-<domain>--YYYYMMDDHH.nc`  | \n",
    "| --------------------------- | ------------------------- |\n",
    "|**Time**: Hourly UTC  |**Time**: Noon Local for that Day |\n",
    "|**XLAT**: Degrees Latitude  |**XLAT**: Degrees Latitude|\n",
    "|**XLON**: Degrees Longitude  |**XLON**: Degrees Longitude|\n",
    "|**F**: Fine Fuel Moisture Code  |**P**: Duff Moisture Code  |\n",
    "|**m_o**: Fine Fuel Moisture Content  |**D**: Drought Moisture Code  |\n",
    "|**R**: Initial Spread Index   |**U**: Build Up Index   |\n",
    "|**S**: Fire Weather Index|**T**: 2 meter Temperature C |\n",
    "|**DSR**: Daily Severity Rating  | **TD**: 2 meter Dew Point Temperature C |\n",
    "|**FMC**: Foliar Moisture Content %  | **H**: 2 meter Relative Humdity %  |\n",
    "|**SFC**: Surface Fuel Consumption kg m^{-2}  | **W**: 10 meter Wind Speed km/h |\n",
    "|**TFC**: Total Fuel Consumption kg m^{-2} | **WD**: 10 meter Wind Direction deg  |\n",
    "|**ROS**: Rate of Spread m min^{-1}  | **r_o**: Total Accumulated Precipitation mm  |\n",
    "|**CFB**: Crown Fraction Burned % | **r_o_tomorrow**: Carry Over Precipitation mm  |\n",
    "|**HFI**: Head Fire Intensity  kW m^{-1} |**SNOWC**: Flag Inidicating Snow <br> Cover (1 for Snow Cover) Snow Depth m   |\n",
    "|**T**: 2 meter Temperature C  |   |\n",
    "|**TD**: 2 meter Dew Point Temperature C  | |\n",
    "|**H**: 2 meter Relative Humdity % |  |\n",
    "|**W**: 10 meter Wind Speed km/h  |  |\n",
    "|**WD**: 10 meter Wind Direction deg  |   |\n",
    "|**U10**:  U Component of Wind at 10 meter m/s  | |\n",
    "|**V10**: V Component of Wind at 10 meter m/s  |   |\n",
    "|**r_o**: Total Accumulated Precipitation mm  |   |\n",
    "|**r_o_hourly**: Hourly Accumulated Precipitation mm  |  |\n",
    "|**SNW**: Total Accumulated Snow cm  |   |\n",
    "|**SNOWH**: Physical Snow Depth m  |   |\n",
    "|**SNOWC**: Flag Indicating Snow <br> Cover (1 for Snow Cover) Snow Depth m  |   |"
   ]
  },
  {
   "cell_type": "markdown",
   "id": "hollywood-lender",
   "metadata": {
    "lines_to_next_cell": 0
   },
   "source": [
    "## Working with\n",
    "\n",
    "Suggest using [xarray](http://xarray.pydata.org/en/stable/) to open and work with data.\n",
    "\n",
    "An example of how to open and view "
   ]
  },
  {
   "cell_type": "code",
   "execution_count": 1,
   "id": "blank-washington",
   "metadata": {},
   "outputs": [
    {
     "name": "stdout",
     "output_type": "stream",
     "text": [
      "******************************\n",
      "context imported. Front of path:\n",
      "/Users/rodell/fwf\n",
      "/Users/rodell/fwf/fwf-docs/source\n",
      "******************************\n",
      "\n",
      "through /Users/rodell/fwf/fwf-docs/source/context.py -- pha\n"
     ]
    },
    {
     "name": "stdout",
     "output_type": "stream",
     "text": [
      "<xarray.DataArray 'F' (time: 55, south_north: 417, west_east: 627)>\n",
      "dask.array<xarray-F, shape=(55, 417, 627), dtype=float32, chunksize=(55, 417, 627), chunktype=numpy.ndarray>\n",
      "Coordinates:\n",
      "    XLONG    (south_north, west_east) float32 dask.array<chunksize=(417, 627), meta=np.ndarray>\n",
      "    XLAT     (south_north, west_east) float32 dask.array<chunksize=(417, 627), meta=np.ndarray>\n",
      "    XTIME    (time) float32 dask.array<chunksize=(55,), meta=np.ndarray>\n",
      "    Time     (time) datetime64[ns] dask.array<chunksize=(55,), meta=np.ndarray>\n",
      "Dimensions without coordinates: time, south_north, west_east\n",
      "Attributes:\n",
      "    FieldType:    104\n",
      "    MemoryOrder:  XY \n",
      "    description:  FINE FUEL MOISTURE CODE\n",
      "    projection:   PolarStereographic(stand_lon=-110.0, moad_cen_lat=53.999992...\n",
      "    stagger:      \n"
     ]
    }
   ],
   "source": [
    "import context\n",
    "import numpy as np\n",
    "import xarray as xr\n",
    "from context import data_dir, fwf_dir\n",
    "\n",
    "forecast_date = '2021051006'  ## \"YYYYMMDDHH\"\n",
    "domain        = 'd02'         ## or 'd03'\n",
    "name \t        = 'hourly'      ## or 'daily'\n",
    "\n",
    "## file directory\n",
    "filein = str(fwf_dir) + f\"/fwf-{name}-{domain}-{forecast_date}.nc\"\n",
    "\n",
    "## open dataset\n",
    "ds = xr.open_dataset(filein)\n",
    "\n",
    "## chunk data to dask.arrays \n",
    "ds = ds.chunk(chunks=\"auto\")\n",
    "ds = ds.unify_chunks()\n",
    "# NOTE this is not needed. Arrays will be either numpy float32 or objects\n",
    "\n",
    "## Example: look at variable F (Fine Fuels Moisture Code)\n",
    "print(ds.F)\n",
    "\n"
   ]
  },
  {
   "cell_type": "markdown",
   "id": "peripheral-institute",
   "metadata": {},
   "source": [
    "## How to search the FWF data set by locations"
   ]
  },
  {
   "cell_type": "code",
   "execution_count": 2,
   "id": "literary-single",
   "metadata": {
    "lines_to_next_cell": 2
   },
   "outputs": [],
   "source": [
    "import context\n",
    "import pickle\n",
    "import numpy as np\n",
    "import pandas as pd\n",
    "import xarray as xr\n",
    "from sklearn.neighbors import KDTree\n",
    "\n",
    "\n",
    "from pathlib import Path\n",
    "\n",
    "from context import data_dir, fwf_dir\n",
    "from datetime import datetime, date, timedelta"
   ]
  },
  {
   "cell_type": "markdown",
   "id": "unlike-sympathy",
   "metadata": {},
   "source": [
    "## Set Up\n",
    "Define forecast date, domain and set paths to dataset"
   ]
  },
  {
   "cell_type": "code",
   "execution_count": 3,
   "id": "characteristic-egyptian",
   "metadata": {},
   "outputs": [],
   "source": [
    "\n",
    "forecast_date = '2021051006'  ## \"YYYYMMDDHH\"\n",
    "domain        = 'd02'         ## or 'd03'\n",
    "name \t        = 'hourly'      ## or 'daily'\n",
    "\n",
    "## set path to gridded forecast dataset\n",
    "filein = str(fwf_dir) + f\"/fwf-{name}-{domain}-{forecast_date}.nc\""
   ]
  },
  {
   "cell_type": "markdown",
   "id": "incomplete-chamber",
   "metadata": {},
   "source": [
    "Open forecast dataset and print "
   ]
  },
  {
   "cell_type": "code",
   "execution_count": 4,
   "id": "funded-healing",
   "metadata": {},
   "outputs": [
    {
     "name": "stdout",
     "output_type": "stream",
     "text": [
      "<xarray.Dataset>\n",
      "Dimensions:     (south_north: 417, time: 55, west_east: 627)\n",
      "Coordinates:\n",
      "    XLONG       (south_north, west_east) float32 ...\n",
      "    XLAT        (south_north, west_east) float32 ...\n",
      "    XTIME       (time) float32 ...\n",
      "    Time        (time) datetime64[ns] ...\n",
      "Dimensions without coordinates: south_north, time, west_east\n",
      "Data variables:\n",
      "    F           (time, south_north, west_east) float32 ...\n",
      "    m_o         (time, south_north, west_east) float32 ...\n",
      "    T           (time, south_north, west_east) float32 ...\n",
      "    TD          (time, south_north, west_east) float32 ...\n",
      "    H           (time, south_north, west_east) float32 ...\n",
      "    W           (time, south_north, west_east) float32 ...\n",
      "    WD          (time, south_north, west_east) float32 ...\n",
      "    r_o         (time, south_north, west_east) float32 ...\n",
      "    SNW         (time, south_north, west_east) float32 ...\n",
      "    SNOWC       (time, south_north, west_east) float32 ...\n",
      "    SNOWH       (time, south_north, west_east) float32 ...\n",
      "    U10         (time, south_north, west_east) float32 ...\n",
      "    V10         (time, south_north, west_east) float32 ...\n",
      "    r_o_hourly  (time, south_north, west_east) float32 ...\n",
      "    R           (time, south_north, west_east) float32 ...\n",
      "    S           (time, south_north, west_east) float32 ...\n",
      "    DSR         (time, south_north, west_east) float32 ...\n",
      "    FMC         (south_north, west_east) float32 ...\n",
      "    SFC         (time, south_north, west_east) float32 ...\n",
      "    ISI         (time, south_north, west_east) float32 ...\n",
      "    ROS         (time, south_north, west_east) float32 ...\n",
      "    CFB         (time, south_north, west_east) float32 ...\n",
      "    TFC         (time, south_north, west_east) float32 ...\n",
      "    HFI         (time, south_north, west_east) float32 ...\n",
      "Attributes:\n",
      "    TITLE:                           FWF MODEL USING OUTPUT FROM WRF V4.2.1 M...\n",
      "    START_DATE:                      '2021-05-10_00:00:00'\n",
      "    SIMULATION_START_DATE:           '2021-05-10_00:00:00'\n",
      "    WEST-EAST_GRID_DIMENSION:        628\n",
      "    SOUTH-NORTH_GRID_DIMENSION:      418\n",
      "    BOTTOM-TOP_GRID_DIMENSION:       55\n",
      "    DX:                              12000.0\n",
      "    DY:                              12000.0\n",
      "    AERCU_OPT:                       0\n",
      "    AERCU_FCT:                       1.0\n",
      "    IDEAL_CASE:                      0\n",
      "    DIFF_6TH_SLOPEOPT:               0\n",
      "    AUTO_LEVELS_OPT:                 2\n",
      "    DIFF_6TH_THRESH:                 0.1\n",
      "    DZBOT:                           50.0\n",
      "    DZSTRETCH_S:                     1.3\n",
      "    DZSTRETCH_U:                     1.1\n",
      "    SKEBS_ON:                        0\n",
      "    SPEC_BDY_FINAL_MU:               1\n",
      "    USE_Q_DIABATIC:                  0\n",
      "    GRIDTYPE:                        'C'\n",
      "    DIFF_OPT:                        1\n",
      "    KM_OPT:                          4\n",
      "    DAMP_OPT:                        3\n",
      "    DAMPCOEF:                        0.2\n",
      "    KHDIF:                           0.0\n",
      "    KVDIF:                           0.0\n",
      "    MP_PHYSICS:                      8\n",
      "    RA_LW_PHYSICS:                   4\n",
      "    RA_SW_PHYSICS:                   4\n",
      "    SF_SFCLAY_PHYSICS:               2\n",
      "    SF_SURFACE_PHYSICS:              2\n",
      "    BL_PBL_PHYSICS:                  2\n",
      "    CU_PHYSICS:                      6\n",
      "    SF_LAKE_PHYSICS:                 0\n",
      "    SURFACE_INPUT_SOURCE:            1\n",
      "    SST_UPDATE:                      0\n",
      "    GRID_FDDA:                       0\n",
      "    GFDDA_INTERVAL_M:                0\n",
      "    GFDDA_END_H:                     0\n",
      "    GRID_SFDDA:                      0\n",
      "    SGFDDA_INTERVAL_M:               0\n",
      "    SGFDDA_END_H:                    0\n",
      "    HYPSOMETRIC_OPT:                 2\n",
      "    USE_THETA_M:                     1\n",
      "    GWD_OPT:                         1\n",
      "    SF_URBAN_PHYSICS:                0\n",
      "    SF_SURFACE_MOSAIC:               0\n",
      "    SF_OCEAN_PHYSICS:                0\n",
      "    SHCU_PHYSICS:                    0\n",
      "    MFSHCONV:                        0\n",
      "    FEEDBACK:                        1\n",
      "    SMOOTH_OPTION:                   0\n",
      "    SWRAD_SCAT:                      1.0\n",
      "    W_DAMPING:                       1\n",
      "    DT:                              48.413334\n",
      "    ADAPT_DT_START:                  48.0\n",
      "    ADAPT_DT_MAX:                    96.0\n",
      "    ADAPT_DT_MIN:                    36.0\n",
      "    RADT:                            15.0\n",
      "    BLDT:                            0.0\n",
      "    CUDT:                            0.0\n",
      "    AER_OPT:                         0\n",
      "    SWINT_OPT:                       0\n",
      "    AER_TYPE:                        1\n",
      "    AER_AOD550_OPT:                  1\n",
      "    AER_ANGEXP_OPT:                  1\n",
      "    AER_SSA_OPT:                     1\n",
      "    AER_ASY_OPT:                     1\n",
      "    AER_AOD550_VAL:                  0.12\n",
      "    AER_ANGEXP_VAL:                  1.3\n",
      "    AER_SSA_VAL:                     0.85\n",
      "    AER_ASY_VAL:                     0.9\n",
      "    MOIST_ADV_OPT:                   1\n",
      "    SCALAR_ADV_OPT:                  1\n",
      "    TKE_ADV_OPT:                     1\n",
      "    DIFF_6TH_OPT:                    0\n",
      "    DIFF_6TH_FACTOR:                 0.12\n",
      "    OBS_NUDGE_OPT:                   0\n",
      "    BUCKET_MM:                       -1.0\n",
      "    BUCKET_J:                        -1.0\n",
      "    PREC_ACC_DT:                     0.0\n",
      "    ISFTCFLX:                        0\n",
      "    ISHALLOW:                        0\n",
      "    ISFFLX:                          1\n",
      "    ICLOUD:                          1\n",
      "    ICLOUD_CU:                       0\n",
      "    TRACER_PBLMIX:                   1\n",
      "    SCALAR_PBLMIX:                   0\n",
      "    YSU_TOPDOWN_PBLMIX:              0\n",
      "    GRAV_SETTLING:                   0\n",
      "    DFI_OPT:                         0\n",
      "    NTASKS_X:                        12\n",
      "    NTASKS_Y:                        15\n",
      "    NTASKS_TOTAL:                    180\n",
      "    SIMULATION_INITIALIZATION_TYPE:  'REAL-DATA CASE'\n",
      "    WEST-EAST_PATCH_START_UNSTAG:    1\n",
      "    WEST-EAST_PATCH_END_UNSTAG:      627\n",
      "    WEST-EAST_PATCH_START_STAG:      1\n",
      "    WEST-EAST_PATCH_END_STAG:        628\n",
      "    SOUTH-NORTH_PATCH_START_UNSTAG:  1\n",
      "    SOUTH-NORTH_PATCH_END_UNSTAG:    417\n",
      "    SOUTH-NORTH_PATCH_START_STAG:    1\n",
      "    SOUTH-NORTH_PATCH_END_STAG:      418\n",
      "    BOTTOM-TOP_PATCH_START_UNSTAG:   1\n",
      "    BOTTOM-TOP_PATCH_END_UNSTAG:     54\n",
      "    BOTTOM-TOP_PATCH_START_STAG:     1\n",
      "    BOTTOM-TOP_PATCH_END_STAG:       55\n",
      "    GRID_ID:                         2\n",
      "    PARENT_ID:                       1\n",
      "    I_PARENT_START:                  40\n",
      "    J_PARENT_START:                  20\n",
      "    PARENT_GRID_RATIO:               3\n",
      "    CEN_LAT:                         52.89589\n",
      "    CEN_LON:                         -107.58885\n",
      "    TRUELAT1:                        53.25\n",
      "    TRUELAT2:                        53.25\n",
      "    MOAD_CEN_LAT:                    53.25\n",
      "    STAND_LON:                       -110.0\n",
      "    POLE_LAT:                        90.0\n",
      "    POLE_LON:                        0.0\n",
      "    GMT:                             0.0\n",
      "    JULYR:                           2021\n",
      "    JULDAY:                          130\n",
      "    MAP_PROJ:                        2\n",
      "    MAP_PROJ_CHAR:                   'Polar Stereographic'\n",
      "    MMINLU:                          'MODIFIED_IGBP_MODIS_NOAH'\n",
      "    NUM_LAND_CAT:                    21\n",
      "    ISWATER:                         17\n",
      "    ISLAKE:                          21\n",
      "    ISICE:                           15\n",
      "    ISURBAN:                         13\n",
      "    ISOILWATER:                      14\n",
      "    HYBRID_OPT:                      2\n",
      "    ETAC:                            0.2\n"
     ]
    }
   ],
   "source": [
    "## open forecast dataset\n",
    "ds = xr.open_dataset(filein)\n",
    "\n",
    "## take a look inside\n",
    "print(ds)"
   ]
  },
  {
   "cell_type": "markdown",
   "id": "productive-robertson",
   "metadata": {
    "lines_to_next_cell": 0
   },
   "source": [
    "Load a data set of weather sation locations and look at the first four rows as an example"
   ]
  },
  {
   "cell_type": "code",
   "execution_count": 5,
   "id": "serial-biography",
   "metadata": {},
   "outputs": [
    {
     "name": "stdout",
     "output_type": "stream",
     "text": [
      "     wmo     lat      lon\n",
      "0  70489  53.900 -166.533\n",
      "1  70395  55.350 -131.700\n",
      "2  70387  56.483 -132.367\n",
      "3  70386  56.817 -132.967\n",
      "4  70381  58.367 -134.583\n"
     ]
    }
   ],
   "source": [
    "## load a data set of weather sation locations\n",
    "df = pd.read_csv(str(data_dir) + \"/nrcan-wxstations.csv\", sep=\",\", usecols = ['wmo',\t'lat',\t'lon'])\n",
    "\n",
    "## look at the first four wxstation in dataframe as example\n",
    "print(df.head())"
   ]
  },
  {
   "cell_type": "markdown",
   "id": "numeric-afghanistan",
   "metadata": {},
   "source": [
    "\n",
    "## Set up to build a kdtree"
   ]
  },
  {
   "cell_type": "code",
   "execution_count": 6,
   "id": "exclusive-underground",
   "metadata": {},
   "outputs": [
    {
     "name": "stdout",
     "output_type": "stream",
     "text": [
      "(417, 627)\n"
     ]
    }
   ],
   "source": [
    "## first, set path to store kdtree\n",
    "kdtree_dir = Path(str(data_dir) + \"/kdtree/\")\n",
    "\n",
    "## make directory if it doesn't exist \n",
    "kdtree_dir.mkdir(parents=True, exist_ok=True)\n",
    "\n",
    "## now take gridded lats and long and convert to np arrays\n",
    "XLAT, XLONG = ds.XLAT.values, ds.XLONG.values\n",
    "\n",
    "## get shape of gridded domain\n",
    "shape = XLAT.shape\n",
    "print(shape)"
   ]
  },
  {
   "cell_type": "markdown",
   "id": "persistent-panama",
   "metadata": {},
   "source": [
    "## Build a kdtree and save"
   ]
  },
  {
   "cell_type": "code",
   "execution_count": 7,
   "id": "equal-preserve",
   "metadata": {},
   "outputs": [
    {
     "name": "stdout",
     "output_type": "stream",
     "text": [
      "Found FWF Tree\n"
     ]
    }
   ],
   "source": [
    "try:\n",
    "  ## try and open kdtree for domain\n",
    "  fwf_tree, fwf_locs = pickle.load(open(str(kdtree_dir) + f'fwf_{domain}_tree.p', \"rb\"))\n",
    "  print('Found FWF Tree')\n",
    "except:\n",
    "  ## build a kd-tree for fwf domain if not found\n",
    "  print(\"Could not find FWF KDTree building....\")\n",
    "  ## create dataframe with columns of all lat/long in the domian...rows are cord pairs \n",
    "  fwf_locs = pd.DataFrame({\"XLAT\": XLAT.ravel(), \"XLONG\": XLONG.ravel()})\n",
    "  ## build kdtree\n",
    "  fwf_tree = KDTree(fwf_locs)\n",
    "  ## save tree\n",
    "  pickle.dump([fwf_tree, fwf_locs], open(str(kdtree_dir) + f'fwf_{domain}_tree.p', \"wb\"))\n",
    "  print(\"FWF KDTree built\")"
   ]
  },
  {
   "cell_type": "markdown",
   "id": "twelve-assignment",
   "metadata": {
    "lines_to_next_cell": 2
   },
   "source": [
    "\n",
    "## Search the data\n",
    "With a built kdtree we can query the tree to find the nearest neighbor model grid to our locations of interest."
   ]
  },
  {
   "cell_type": "code",
   "execution_count": 8,
   "id": "shared-feelings",
   "metadata": {},
   "outputs": [],
   "source": [
    "## define empty list to append index of weather station locations\n",
    "south_north,  west_east, wmo = [], [], []\n",
    "## loop each weather station in dataframe\n",
    "for loc in df.itertuples(index=True, name='Pandas'):\n",
    "  ## arange wx station lat and long in a formate to query the kdtree\n",
    "  single_loc = np.array([loc.lat, loc.lon]).reshape(1, -1)\n",
    "\n",
    "  ## query the kdtree retuning the distacne of nearest neighbor and the index on the raveled grid\n",
    "  fwf_dist, fwf_ind = fwf_tree.query(single_loc, k=1)\n",
    "\n",
    "  ## set condition to pass on stations outside model domian \n",
    "  if fwf_dist > 0.1:\n",
    "    pass\n",
    "  else:\n",
    "    ## if condition passed reformate 1D index to 2D indexes\n",
    "    fwf_2D_ind = np.unravel_index(int(fwf_ind), shape)\n",
    "    ## append the indexes to lists\n",
    "    wmo.append(loc.wmo)\n",
    "    south_north.append(fwf_2D_ind[0])\n",
    "    west_east.append(fwf_2D_ind[1])"
   ]
  },
  {
   "cell_type": "markdown",
   "id": "special-designer",
   "metadata": {},
   "source": []
  },
  {
   "cell_type": "code",
   "execution_count": 9,
   "id": "figured-operator",
   "metadata": {},
   "outputs": [],
   "source": [
    "## now the magic of xarray..convert lists of indexes to a dataarray with dimension wmo (weather staton)..this allows you to index and entire dataset \n",
    "south_north = xr.DataArray(np.array(south_north), dims= 'wmo', coords= dict(wmo = wmo))\n",
    "west_east = xr.DataArray(np.array(west_east), dims= 'wmo', coords= dict(wmo = wmo))"
   ]
  },
  {
   "cell_type": "markdown",
   "id": "legitimate-residence",
   "metadata": {},
   "source": []
  },
  {
   "cell_type": "code",
   "execution_count": 10,
   "id": "elementary-watch",
   "metadata": {},
   "outputs": [],
   "source": [
    "## index the entire dataset at the locations of interest leaving diemion time with new dimension wx stations\n",
    "ds_loc = ds.sel(south_north = south_north, west_east = west_east)"
   ]
  },
  {
   "cell_type": "markdown",
   "id": "insured-organizer",
   "metadata": {},
   "source": []
  },
  {
   "cell_type": "code",
   "execution_count": 11,
   "id": "split-array",
   "metadata": {
    "lines_to_next_cell": 2
   },
   "outputs": [
    {
     "name": "stdout",
     "output_type": "stream",
     "text": [
      "<xarray.Dataset>\n",
      "Dimensions:     (time: 55, wmo: 1335)\n",
      "Coordinates:\n",
      "    XLONG       (wmo) float32 -166.5 -131.7 -132.3 ... -76.06 -71.51 -69.85\n",
      "    XLAT        (wmo) float32 53.95 55.29 56.45 56.77 ... 44.02 42.72 44.35\n",
      "    XTIME       (time) float32 ...\n",
      "    Time        (time) datetime64[ns] ...\n",
      "  * wmo         (wmo) int64 70489 70395 70387 70386 ... 721847 721839 721829\n",
      "Dimensions without coordinates: time\n",
      "Data variables:\n",
      "    F           (time, wmo) float32 ...\n",
      "    m_o         (time, wmo) float32 ...\n",
      "    T           (time, wmo) float32 ...\n",
      "    TD          (time, wmo) float32 ...\n",
      "    H           (time, wmo) float32 ...\n",
      "    W           (time, wmo) float32 ...\n",
      "    WD          (time, wmo) float32 ...\n",
      "    r_o         (time, wmo) float32 ...\n",
      "    SNW         (time, wmo) float32 ...\n",
      "    SNOWC       (time, wmo) float32 ...\n",
      "    SNOWH       (time, wmo) float32 ...\n",
      "    U10         (time, wmo) float32 ...\n",
      "    V10         (time, wmo) float32 ...\n",
      "    r_o_hourly  (time, wmo) float32 ...\n",
      "    R           (time, wmo) float32 ...\n",
      "    S           (time, wmo) float32 ...\n",
      "    DSR         (time, wmo) float32 ...\n",
      "    FMC         (wmo) float32 ...\n",
      "    SFC         (time, wmo) float32 ...\n",
      "    ISI         (time, wmo) float32 ...\n",
      "    ROS         (time, wmo) float32 ...\n",
      "    CFB         (time, wmo) float32 ...\n",
      "    TFC         (time, wmo) float32 ...\n",
      "    HFI         (time, wmo) float32 ...\n",
      "Attributes:\n",
      "    TITLE:                           FWF MODEL USING OUTPUT FROM WRF V4.2.1 M...\n",
      "    START_DATE:                      '2021-05-10_00:00:00'\n",
      "    SIMULATION_START_DATE:           '2021-05-10_00:00:00'\n",
      "    WEST-EAST_GRID_DIMENSION:        628\n",
      "    SOUTH-NORTH_GRID_DIMENSION:      418\n",
      "    BOTTOM-TOP_GRID_DIMENSION:       55\n",
      "    DX:                              12000.0\n",
      "    DY:                              12000.0\n",
      "    AERCU_OPT:                       0\n",
      "    AERCU_FCT:                       1.0\n",
      "    IDEAL_CASE:                      0\n",
      "    DIFF_6TH_SLOPEOPT:               0\n",
      "    AUTO_LEVELS_OPT:                 2\n",
      "    DIFF_6TH_THRESH:                 0.1\n",
      "    DZBOT:                           50.0\n",
      "    DZSTRETCH_S:                     1.3\n",
      "    DZSTRETCH_U:                     1.1\n",
      "    SKEBS_ON:                        0\n",
      "    SPEC_BDY_FINAL_MU:               1\n",
      "    USE_Q_DIABATIC:                  0\n",
      "    GRIDTYPE:                        'C'\n",
      "    DIFF_OPT:                        1\n",
      "    KM_OPT:                          4\n",
      "    DAMP_OPT:                        3\n",
      "    DAMPCOEF:                        0.2\n",
      "    KHDIF:                           0.0\n",
      "    KVDIF:                           0.0\n",
      "    MP_PHYSICS:                      8\n",
      "    RA_LW_PHYSICS:                   4\n",
      "    RA_SW_PHYSICS:                   4\n",
      "    SF_SFCLAY_PHYSICS:               2\n",
      "    SF_SURFACE_PHYSICS:              2\n",
      "    BL_PBL_PHYSICS:                  2\n",
      "    CU_PHYSICS:                      6\n",
      "    SF_LAKE_PHYSICS:                 0\n",
      "    SURFACE_INPUT_SOURCE:            1\n",
      "    SST_UPDATE:                      0\n",
      "    GRID_FDDA:                       0\n",
      "    GFDDA_INTERVAL_M:                0\n",
      "    GFDDA_END_H:                     0\n",
      "    GRID_SFDDA:                      0\n",
      "    SGFDDA_INTERVAL_M:               0\n",
      "    SGFDDA_END_H:                    0\n",
      "    HYPSOMETRIC_OPT:                 2\n",
      "    USE_THETA_M:                     1\n",
      "    GWD_OPT:                         1\n",
      "    SF_URBAN_PHYSICS:                0\n",
      "    SF_SURFACE_MOSAIC:               0\n",
      "    SF_OCEAN_PHYSICS:                0\n",
      "    SHCU_PHYSICS:                    0\n",
      "    MFSHCONV:                        0\n",
      "    FEEDBACK:                        1\n",
      "    SMOOTH_OPTION:                   0\n",
      "    SWRAD_SCAT:                      1.0\n",
      "    W_DAMPING:                       1\n",
      "    DT:                              48.413334\n",
      "    ADAPT_DT_START:                  48.0\n",
      "    ADAPT_DT_MAX:                    96.0\n",
      "    ADAPT_DT_MIN:                    36.0\n",
      "    RADT:                            15.0\n",
      "    BLDT:                            0.0\n",
      "    CUDT:                            0.0\n",
      "    AER_OPT:                         0\n",
      "    SWINT_OPT:                       0\n",
      "    AER_TYPE:                        1\n",
      "    AER_AOD550_OPT:                  1\n",
      "    AER_ANGEXP_OPT:                  1\n",
      "    AER_SSA_OPT:                     1\n",
      "    AER_ASY_OPT:                     1\n",
      "    AER_AOD550_VAL:                  0.12\n",
      "    AER_ANGEXP_VAL:                  1.3\n",
      "    AER_SSA_VAL:                     0.85\n",
      "    AER_ASY_VAL:                     0.9\n",
      "    MOIST_ADV_OPT:                   1\n",
      "    SCALAR_ADV_OPT:                  1\n",
      "    TKE_ADV_OPT:                     1\n",
      "    DIFF_6TH_OPT:                    0\n",
      "    DIFF_6TH_FACTOR:                 0.12\n",
      "    OBS_NUDGE_OPT:                   0\n",
      "    BUCKET_MM:                       -1.0\n",
      "    BUCKET_J:                        -1.0\n",
      "    PREC_ACC_DT:                     0.0\n",
      "    ISFTCFLX:                        0\n",
      "    ISHALLOW:                        0\n",
      "    ISFFLX:                          1\n",
      "    ICLOUD:                          1\n",
      "    ICLOUD_CU:                       0\n",
      "    TRACER_PBLMIX:                   1\n",
      "    SCALAR_PBLMIX:                   0\n",
      "    YSU_TOPDOWN_PBLMIX:              0\n",
      "    GRAV_SETTLING:                   0\n",
      "    DFI_OPT:                         0\n",
      "    NTASKS_X:                        12\n",
      "    NTASKS_Y:                        15\n",
      "    NTASKS_TOTAL:                    180\n",
      "    SIMULATION_INITIALIZATION_TYPE:  'REAL-DATA CASE'\n",
      "    WEST-EAST_PATCH_START_UNSTAG:    1\n",
      "    WEST-EAST_PATCH_END_UNSTAG:      627\n",
      "    WEST-EAST_PATCH_START_STAG:      1\n",
      "    WEST-EAST_PATCH_END_STAG:        628\n",
      "    SOUTH-NORTH_PATCH_START_UNSTAG:  1\n",
      "    SOUTH-NORTH_PATCH_END_UNSTAG:    417\n",
      "    SOUTH-NORTH_PATCH_START_STAG:    1\n",
      "    SOUTH-NORTH_PATCH_END_STAG:      418\n",
      "    BOTTOM-TOP_PATCH_START_UNSTAG:   1\n",
      "    BOTTOM-TOP_PATCH_END_UNSTAG:     54\n",
      "    BOTTOM-TOP_PATCH_START_STAG:     1\n",
      "    BOTTOM-TOP_PATCH_END_STAG:       55\n",
      "    GRID_ID:                         2\n",
      "    PARENT_ID:                       1\n",
      "    I_PARENT_START:                  40\n",
      "    J_PARENT_START:                  20\n",
      "    PARENT_GRID_RATIO:               3\n",
      "    CEN_LAT:                         52.89589\n",
      "    CEN_LON:                         -107.58885\n",
      "    TRUELAT1:                        53.25\n",
      "    TRUELAT2:                        53.25\n",
      "    MOAD_CEN_LAT:                    53.25\n",
      "    STAND_LON:                       -110.0\n",
      "    POLE_LAT:                        90.0\n",
      "    POLE_LON:                        0.0\n",
      "    GMT:                             0.0\n",
      "    JULYR:                           2021\n",
      "    JULDAY:                          130\n",
      "    MAP_PROJ:                        2\n",
      "    MAP_PROJ_CHAR:                   'Polar Stereographic'\n",
      "    MMINLU:                          'MODIFIED_IGBP_MODIS_NOAH'\n",
      "    NUM_LAND_CAT:                    21\n",
      "    ISWATER:                         17\n",
      "    ISLAKE:                          21\n",
      "    ISICE:                           15\n",
      "    ISURBAN:                         13\n",
      "    ISOILWATER:                      14\n",
      "    HYBRID_OPT:                      2\n",
      "    ETAC:                            0.2\n"
     ]
    }
   ],
   "source": [
    "## print to see new time series dataset at every weather station location\n",
    "print(ds_loc)"
   ]
  },
  {
   "cell_type": "markdown",
   "id": "acknowledged-vermont",
   "metadata": {
    "lines_to_next_cell": 2
   },
   "source": [
    "\n",
    "## Data License\n",
    "[Creative Commons Attribution 4.0 International License.](https://creativecommons.org/licenses/by/4.0/)"
   ]
  }
 ],
 "metadata": {
  "jupytext": {
   "cell_metadata_filter": "-all",
   "main_language": "python",
   "notebook_metadata_filter": "-all"
  },
  "language_info": {
   "codemirror_mode": {
    "name": "ipython",
    "version": 3
   },
   "file_extension": ".py",
   "mimetype": "text/x-python",
   "name": "python",
   "nbconvert_exporter": "python",
   "pygments_lexer": "ipython3",
   "version": "3.8.8"
  }
 },
 "nbformat": 4,
 "nbformat_minor": 5
}